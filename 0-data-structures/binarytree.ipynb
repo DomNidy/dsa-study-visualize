{
 "cells": [
  {
   "cell_type": "code",
   "execution_count": 2,
   "metadata": {},
   "outputs": [],
   "source": [
    "import graphviz\n",
    "# Boilerplate taken from: https://levelup.gitconnected.com/binary-tree-implementation-and-visualization-in-python-2f4782887ca2\n"
   ]
  },
  {
   "cell_type": "code",
   "execution_count": 6,
   "metadata": {},
   "outputs": [],
   "source": [
    "class TreeNode:\n",
    "    def __init__(self, key):\n",
    "        self.key = key\n",
    "        self.left = None\n",
    "        self.right = None\n",
    "\n",
    "\n",
    "def insert(root, key):\n",
    "    if root is None:\n",
    "        return TreeNode(key)\n",
    "    else:\n",
    "        if key < root.key:\n",
    "            root.left = insert(root.left, key)\n",
    "        else:\n",
    "            root.right = insert(root.right, key)\n",
    "    return root\n",
    "\n",
    "\n",
    "def visualize_binary_tree(root):\n",
    "    dot = graphviz.Digraph()\n",
    "    dot.node(str(root.key))\n",
    "\n",
    "    def add_nodes_edges(node):\n",
    "        if node.left:\n",
    "            dot.node(str(node.left.key))\n",
    "            dot.edge(str(node.key), str(node.left.key))\n",
    "            add_nodes_edges(node.left)\n",
    "        if node.right:\n",
    "            dot.node(str(node.right.key))\n",
    "            dot.edge(str(node.key), str(node.right.key))\n",
    "            add_nodes_edges(node.right)\n",
    "\n",
    "    add_nodes_edges(root)\n",
    "    return dot\n",
    "\n",
    "\n",
    "# Example usage:\n",
    "root = None\n",
    "keys = [5, 3, 7, 2, 4, 6, 8]\n",
    "for key in keys:\n",
    "    root = insert(root, key)\n",
    "\n",
    "visualize_binary_tree(root)"
   ]
  }
 ],
 "metadata": {
  "kernelspec": {
   "display_name": "base",
   "language": "python",
   "name": "python3"
  },
  "language_info": {
   "codemirror_mode": {
    "name": "ipython",
    "version": 3
   },
   "file_extension": ".py",
   "mimetype": "text/x-python",
   "name": "python",
   "nbconvert_exporter": "python",
   "pygments_lexer": "ipython3",
   "version": "3.11.7"
  }
 },
 "nbformat": 4,
 "nbformat_minor": 2
}
